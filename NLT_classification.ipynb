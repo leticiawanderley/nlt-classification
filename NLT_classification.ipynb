{
 "cells": [
  {
   "cell_type": "code",
   "execution_count": 8,
   "metadata": {},
   "outputs": [],
   "source": [
    "import json\n",
    "import pandas as pd\n",
    "import nltk\n",
    "import numpy as np\n",
    "import warnings\n",
    "\n",
    "from itertools import combinations\n",
    "from sklearn import preprocessing\n",
    "from sklearn.ensemble import RandomForestClassifier\n",
    "from sklearn.linear_model import LogisticRegression\n",
    "from sklearn.metrics import classification_report\n",
    "from sklearn.model_selection import cross_val_score, train_test_split"
   ]
  },
  {
   "cell_type": "code",
   "execution_count": 9,
   "metadata": {},
   "outputs": [],
   "source": [
    "warnings.simplefilter(action='ignore', category=FutureWarning)"
   ]
  },
  {
   "cell_type": "code",
   "execution_count": 10,
   "metadata": {},
   "outputs": [],
   "source": [
    "def linear_model(x, y, x_test, y_test):\n",
    "    reg = LogisticRegression(random_state=42).fit(x,y)\n",
    "    predictions = reg.predict(x_test)\n",
    "    print(classification_report(reg.predict(x_test), y_test))\n",
    "    print(reg.score(x_test, y_test))\n",
    "    return predictions"
   ]
  },
  {
   "cell_type": "code",
   "execution_count": 11,
   "metadata": {},
   "outputs": [],
   "source": [
    "def random_forest(x, y, x_test, y_test):\n",
    "    clf = RandomForestClassifier(n_estimators=400, max_depth=100, random_state=42)\n",
    "    clf.fit(x, y)\n",
    "    predictions = clf.predict(x_test)\n",
    "    print(classification_report(clf.predict(x_test), y_test))\n",
    "    print(clf.score(x_test, y_test))\n",
    "    return predictions"
   ]
  },
  {
   "cell_type": "code",
   "execution_count": 12,
   "metadata": {},
   "outputs": [],
   "source": [
    "x_train = pd.read_csv('./data/x_train.csv')\n",
    "x_train['error_length'] = x_train['error_length'].fillna(0)\n",
    "x_test = pd.read_csv('./data/x_test.csv')\n",
    "y_train = pd.read_csv('./data/y_train.csv')\n",
    "y_test = pd.read_csv('./data/y_test.csv')"
   ]
  },
  {
   "cell_type": "code",
   "execution_count": 13,
   "metadata": {},
   "outputs": [],
   "source": [
    "features_dict = json.load(open('./data/feature_dict.json', 'r'))\n",
    "columns = []\n",
    "for column in ['error_length', 'error_type_dummies', 'incorrect_ptb_tags_dummies']:\n",
    "    if column in features_dict:\n",
    "        columns.extend(features_dict[column])\n",
    "    else:\n",
    "        columns.append(column)"
   ]
  },
  {
   "cell_type": "code",
   "execution_count": 14,
   "metadata": {},
   "outputs": [
    {
     "name": "stdout",
     "output_type": "stream",
     "text": [
      "              precision    recall  f1-score   support\n",
      "\n",
      "           0       0.73      0.77      0.75       141\n",
      "           1       0.82      0.79      0.80       187\n",
      "\n",
      "    accuracy                           0.78       328\n",
      "   macro avg       0.78      0.78      0.78       328\n",
      "weighted avg       0.78      0.78      0.78       328\n",
      "\n",
      "0.7804878048780488\n"
     ]
    }
   ],
   "source": [
    "rf_predictions = random_forest(x_train[columns], y_train['Negative transfer?'], x_test[columns], y_test['Negative transfer?'])"
   ]
  },
  {
   "cell_type": "code",
   "execution_count": 15,
   "metadata": {},
   "outputs": [],
   "source": [
    "error_type_columns = features_dict['error_type_dummies']"
   ]
  },
  {
   "cell_type": "code",
   "execution_count": 16,
   "metadata": {},
   "outputs": [
    {
     "name": "stdout",
     "output_type": "stream",
     "text": [
      "              precision    recall  f1-score   support\n",
      "\n",
      "           0       0.65      0.71      0.68       133\n",
      "           1       0.79      0.73      0.76       195\n",
      "\n",
      "    accuracy                           0.73       328\n",
      "   macro avg       0.72      0.72      0.72       328\n",
      "weighted avg       0.73      0.73      0.73       328\n",
      "\n",
      "0.725609756097561\n"
     ]
    }
   ],
   "source": [
    "lm_predictions = linear_model(x_train[error_type_columns], y_train['Negative transfer?'], x_test[error_type_columns], y_test['Negative transfer?'])"
   ]
  },
  {
   "cell_type": "code",
   "execution_count": 77,
   "metadata": {},
   "outputs": [
    {
     "name": "stdout",
     "output_type": "stream",
     "text": [
      "   error_type  count  incorrect_percent\n",
      "0         AGA      3           0.333333\n",
      "1         AGN      6           0.000000\n",
      "2         AGV      9           0.000000\n",
      "3          AS      3           0.333333\n",
      "4          CN      1           0.000000\n",
      "5          DA      1           0.000000\n",
      "6          DD      2           0.000000\n",
      "7          DJ      9           0.111111\n",
      "8          DN      1           0.000000\n",
      "9          DV      1           0.000000\n",
      "10         DY      2           1.000000\n",
      "11         FD      2           0.000000\n",
      "12         FN      7           0.142857\n",
      "13         FV     11           0.090909\n",
      "14         ID      2           1.000000\n",
      "15         IQ      1           0.000000\n",
      "16         IV      1           0.000000\n",
      "17          L      2           1.000000\n",
      "18          M      6           0.333333\n",
      "19         MA      7           0.285714\n",
      "20         MC      1           1.000000\n",
      "21         MD     17           0.000000\n",
      "22         MN      1           0.000000\n",
      "23         MP     10           0.000000\n",
      "24         MT      8           0.000000\n",
      "25         MV      9           0.222222\n",
      "26         MY      1           0.000000\n",
      "27          R     22           0.136364\n",
      "28         RA      2           0.000000\n",
      "29         RC      3           0.333333\n",
      "30         RD      8           0.375000\n",
      "31         RJ      5           0.400000\n",
      "32         RN     14           0.357143\n",
      "33         RP     30           0.166667\n",
      "34         RT     26           0.500000\n",
      "35         RV     27           0.444444\n",
      "36         RY      7           0.428571\n",
      "37         TV     25           0.160000\n",
      "38          U      2           0.000000\n",
      "39         UA      1           0.000000\n",
      "40         UC      1           1.000000\n",
      "41         UD     11           0.000000\n",
      "42         UN      2           0.500000\n",
      "43         UP      4           0.000000\n",
      "44         UT      6           0.000000\n",
      "45         UV      2           0.000000\n",
      "46         UY      1           1.000000\n",
      "47          W      5           0.200000\n",
      "   error_type  count  incorrect_percent\n",
      "0         AGA      3           0.333333\n",
      "1         AGN      6           0.500000\n",
      "2         AGV      9           0.000000\n",
      "3          AS      3           0.333333\n",
      "4          CN      1           0.000000\n",
      "5          DA      1           0.000000\n",
      "6          DD      2           0.000000\n",
      "7          DJ      9           0.111111\n",
      "8          DN      1           0.000000\n",
      "9          DV      1           0.000000\n",
      "10         DY      2           0.000000\n",
      "11         FD      2           0.000000\n",
      "12         FN      7           0.285714\n",
      "13         FV     11           0.545455\n",
      "14         ID      2           0.000000\n",
      "15         IQ      1           1.000000\n",
      "16         IV      1           0.000000\n",
      "17          L      2           0.000000\n",
      "18          M      6           0.333333\n",
      "19         MA      7           0.285714\n",
      "20         MC      1           1.000000\n",
      "21         MD     17           0.000000\n",
      "22         MN      1           1.000000\n",
      "23         MP     10           0.000000\n",
      "24         MT      8           0.000000\n",
      "25         MV      9           0.111111\n",
      "26         MY      1           0.000000\n",
      "27          R     22           0.409091\n",
      "28         RA      2           0.000000\n",
      "29         RC      3           0.666667\n",
      "30         RD      8           0.625000\n",
      "31         RJ      5           0.600000\n",
      "32         RN     14           0.500000\n",
      "33         RP     30           0.300000\n",
      "34         RT     26           0.461538\n",
      "35         RV     27           0.333333\n",
      "36         RY      7           0.285714\n",
      "37         TV     25           0.440000\n",
      "38          U      2           0.000000\n",
      "39         UA      1           0.000000\n",
      "40         UC      1           1.000000\n",
      "41         UD     11           0.000000\n",
      "42         UN      2           0.500000\n",
      "43         UP      4           0.000000\n",
      "44         UT      6           0.000000\n",
      "45         UV      2           0.000000\n",
      "46         UY      1           1.000000\n",
      "47          W      5           0.600000\n"
     ]
    }
   ],
   "source": [
    "def error_type_analysis(x_test, predictions):\n",
    "    error_types_incorrect = {}\n",
    "    for index, row in x_test.iterrows():\n",
    "        if row['error_type'] not in error_types_incorrect:\n",
    "            error_types_incorrect[row['error_type']] = 0\n",
    "        if row['Negative transfer?'] != predictions[index]:\n",
    "            error_types_incorrect[row['error_type']] += 1\n",
    "    error_type_counts = x_test.groupby('error_type')['error_type'].count()\n",
    "    error_type_counts = error_type_counts.to_frame().rename(columns={'error_type':'count'}).reset_index()\n",
    "    error_type_counts['incorrect_percent'] = error_type_counts.apply(\n",
    "        lambda row: error_types_incorrect[row['error_type']]/row['count'], axis=1)\n",
    "    return error_type_counts\n",
    "    \n",
    "print(error_type_analysis(x_test, rf_predictions))\n",
    "print(error_type_analysis(x_test, lm_predictions))"
   ]
  },
  {
   "cell_type": "code",
   "execution_count": null,
   "metadata": {},
   "outputs": [],
   "source": []
  }
 ],
 "metadata": {
  "kernelspec": {
   "display_name": "Python 3",
   "language": "python",
   "name": "python3"
  },
  "language_info": {
   "codemirror_mode": {
    "name": "ipython",
    "version": 3
   },
   "file_extension": ".py",
   "mimetype": "text/x-python",
   "name": "python",
   "nbconvert_exporter": "python",
   "pygments_lexer": "ipython3",
   "version": "3.7.1"
  }
 },
 "nbformat": 4,
 "nbformat_minor": 2
}
